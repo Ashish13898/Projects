{
 "cells": [
  {
   "cell_type": "code",
   "execution_count": null,
   "metadata": {},
   "outputs": [],
   "source": [
    "# Important Classes \n",
    "import pygame\n",
    "\n",
    "class Settings() : \n",
    "    \"\"\"Game Settings\"\"\"\n",
    "    \n",
    "    def __init__(self):\n",
    "        self.screen_width = 1200\n",
    "        self.screen_height = 800\n",
    "        self.bg_color = (230, 230, 230)\n",
    "        \n",
    "\n",
    "class Ship() :\n",
    "    \n",
    "    def __init__(self,screen) :\n",
    "        \"\"\"Initialize the ship and set its starting position.\"\"\"\n",
    "        self.screen = screen\n",
    "        "
   ]
  },
  {
   "cell_type": "code",
   "execution_count": null,
   "metadata": {},
   "outputs": [],
   "source": []
  },
  {
   "cell_type": "code",
   "execution_count": null,
   "metadata": {},
   "outputs": [],
   "source": [
    "import sys\n",
    "import pygame\n",
    "\n",
    "def run_game() :\n",
    "    \n",
    "    pygame.init()\n",
    "    \n",
    "    # Loading Settings\n",
    "    ai_settings = Settings()\n",
    "    \n",
    "    screen = pygame.display.set_mode((ai_settings.screen_width, ai_settings.screen_height))\n",
    "    \n",
    "    pygame.display.set_caption(\"Alien Invasion\")\n",
    "    \n",
    "    # Start the main loop for the game.\n",
    "    while True:\n",
    "    \n",
    "        screen.fill(ai_settings.bg_color)\n",
    "        \n",
    "        # Watch for keyboard and mouse events.\n",
    "        for event in pygame.event.get():\n",
    "        \n",
    "             if event.type == pygame.QUIT:\n",
    "                    sys.exit()\n",
    "        \n",
    "        \n",
    "        # Make the most recently drawn screen visible.\n",
    "        pygame.display.flip()\n",
    "        \n",
    "        \n",
    "run_game()"
   ]
  },
  {
   "cell_type": "code",
   "execution_count": null,
   "metadata": {},
   "outputs": [],
   "source": []
  },
  {
   "cell_type": "code",
   "execution_count": null,
   "metadata": {},
   "outputs": [],
   "source": []
  }
 ],
 "metadata": {
  "kernelspec": {
   "display_name": "Python 3",
   "language": "python",
   "name": "python3"
  },
  "language_info": {
   "codemirror_mode": {
    "name": "ipython",
    "version": 3
   },
   "file_extension": ".py",
   "mimetype": "text/x-python",
   "name": "python",
   "nbconvert_exporter": "python",
   "pygments_lexer": "ipython3",
   "version": "3.8.3"
  }
 },
 "nbformat": 4,
 "nbformat_minor": 4
}
