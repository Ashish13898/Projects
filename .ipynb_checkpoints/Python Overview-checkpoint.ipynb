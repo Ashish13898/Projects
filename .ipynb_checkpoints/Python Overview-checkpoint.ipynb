{
 "cells": [
  {
   "cell_type": "code",
   "execution_count": 2,
   "metadata": {},
   "outputs": [
    {
     "name": "stdout",
     "output_type": "stream",
     "text": [
      "Let's start it slow and go long with it...\n"
     ]
    }
   ],
   "source": [
    "# First Step\n",
    "print(\"Let's start it slow and go long with it...\")\n",
    "\n",
    "message = 'test'"
   ]
  },
  {
   "cell_type": "code",
   "execution_count": 10,
   "metadata": {},
   "outputs": [
    {
     "name": "stdout",
     "output_type": "stream",
     "text": [
      "Test\n",
      "TEST\n",
      "test\n",
      "test\n",
      "test\n",
      "test\n"
     ]
    }
   ],
   "source": [
    "# String funcations\n",
    "message = 'test'\n",
    "message_strip = 'test '\n",
    "message_strip = ' test '\n",
    "boolean_value = True #boolean \n",
    "boolean_value = False #boolean \n",
    "\n",
    "print(message.title()) #First word capital\n",
    "print(message.upper()) #Upper Case\n",
    "print(message.lower()) #Lower Case]\n",
    "print(message.rstrip()) #Strip white cases on the right\n",
    "print(message.lstrip()) #Strip white cases on the left\n",
    "print(message.strip()) #Strip white cases on both sides\n"
   ]
  },
  {
   "cell_type": "code",
   "execution_count": 12,
   "metadata": {},
   "outputs": [
    {
     "name": "stdout",
     "output_type": "stream",
     "text": [
      "test 10\n"
     ]
    }
   ],
   "source": [
    "# Type Conversion\n",
    "number = 10\n",
    "print ('test '+ str(number))"
   ]
  },
  {
   "cell_type": "code",
   "execution_count": 13,
   "metadata": {},
   "outputs": [
    {
     "name": "stdout",
     "output_type": "stream",
     "text": [
      "The Zen of Python, by Tim Peters\n",
      "\n",
      "Beautiful is better than ugly.\n",
      "Explicit is better than implicit.\n",
      "Simple is better than complex.\n",
      "Complex is better than complicated.\n",
      "Flat is better than nested.\n",
      "Sparse is better than dense.\n",
      "Readability counts.\n",
      "Special cases aren't special enough to break the rules.\n",
      "Although practicality beats purity.\n",
      "Errors should never pass silently.\n",
      "Unless explicitly silenced.\n",
      "In the face of ambiguity, refuse the temptation to guess.\n",
      "There should be one-- and preferably only one --obvious way to do it.\n",
      "Although that way may not be obvious at first unless you're Dutch.\n",
      "Now is better than never.\n",
      "Although never is often better than *right* now.\n",
      "If the implementation is hard to explain, it's a bad idea.\n",
      "If the implementation is easy to explain, it may be a good idea.\n",
      "Namespaces are one honking great idea -- let's do more of those!\n"
     ]
    }
   ],
   "source": [
    "# Zen of python\n",
    "import this"
   ]
  },
  {
   "cell_type": "code",
   "execution_count": 39,
   "metadata": {},
   "outputs": [
    {
     "name": "stdout",
     "output_type": "stream",
     "text": [
      "LEN COUNT STARTS FROM 1 NOT 0 REMEMBER :  3\n",
      "4\n",
      "3\n",
      "[3, 4]\n",
      "None\n",
      "[3, 'test', 4]\n"
     ]
    }
   ],
   "source": [
    "# Lists \n",
    "\n",
    "list_test = [4,2,3]\n",
    "\n",
    "print('LEN COUNT STARTS FROM 1 NOT 0 REMEMBER : ', int(len(list_test))) \n",
    "\n",
    "print(list_test[0]) # INDEX STARTS FROM 0 \n",
    "\n",
    "print(list_test[-1]) # LAST ITEM -1\n",
    "\n",
    "type(list_test)  # to check the DATA TYPE \n",
    "\n",
    "# Modifying the list\n",
    "list_test[0] = 0\n",
    "list_test.append(4)\n",
    "list_test.insert(1,1) #insert(index,value) NOTE : if index exists, it'll change all the other value index by one\n",
    "\n",
    "del list_test[0]\n",
    "removed_item = list_test.pop(0) # pop(index) BY INDEX not find then returns NONE\n",
    "removed_item = list_test.remove(2) #remove(value) BY VALUE, not find then returns NONE, DELETE THE FIRST OCCURRENCE\n",
    "\n",
    "print(list_test)\n",
    "print(removed_item)\n",
    "\n",
    "list_test = [4,'test',3]\n",
    "# SORT \n",
    "#list_test.sort() # sort(reverse=false or true), throws an error if list contains int and str both\n",
    "list_test.reverse() # Reversing the Order\n",
    "print(list_test)"
   ]
  },
  {
   "cell_type": "code",
   "execution_count": 75,
   "metadata": {},
   "outputs": [
    {
     "name": "stdout",
     "output_type": "stream",
     "text": [
      "Sleep, no one's here\n",
      "Work your ass off.....\n",
      "Dudeeee, sleeepppp\n",
      "Contains with list\n"
     ]
    }
   ],
   "source": [
    "# NULL CHECK IN PYTHON\n",
    "# Python uses the keyword None to define null objects and variables\n",
    "\n",
    "empty_list = []\n",
    "non_empty_list = [1]\n",
    "emptystr = None\n",
    "\n",
    "if not empty_list:\n",
    "    print(\"Sleep, no one's here\")\n",
    "    \n",
    "if non_empty_list : \n",
    "    print(\"Work your ass off.....\")\n",
    "    \n",
    "if not emptystr:\n",
    "    print('Dudeeee, sleeepppp')\n",
    "\n",
    "if 1 in non_empty_list : \n",
    "    print('Contains with list')"
   ]
  },
  {
   "cell_type": "code",
   "execution_count": 4,
   "metadata": {},
   "outputs": [
    {
     "name": "stdout",
     "output_type": "stream",
     "text": [
      "1\n",
      "2\n",
      "3\n",
      "test 3\n",
      "test 2\n",
      "test 1\n",
      "Range :  1\n",
      "Range :  2\n",
      "Range :  3\n",
      "RANGE LIST  [1, 2]\n",
      "MIN  1\n",
      "MAX  2\n",
      "SUM  3\n",
      "[0, 1, 2, 3, 4, 5, 6, 7, 8]\n",
      "[1, 2, 3]\n",
      "[0, 1, 2, 3]\n",
      "[1, 2, 3, 4, 5, 6, 7, 8]\n",
      "[6, 7, 8]\n",
      "[3]\n",
      "[6, 7, 8]\n",
      "[0, 1, 2, 3, 4, 5, 6, 7, 8, 9]\n",
      "[0, 1, 2, 3, 4, 5, 6, 7, 8, 9]\n"
     ]
    }
   ],
   "source": [
    "# LOOPS\n",
    "list_for_loop = [1,2,3]\n",
    "for temp in list_for_loop:\n",
    "    print(temp)\n",
    "\n",
    "while list_for_loop : \n",
    "    print('test '+ str(list_for_loop.pop()))\n",
    "    \n",
    "\n",
    "for i in range(1,4): # RANGE(0,4) --> [0,1,2] not the last count\n",
    "    print('Range : ',int(i))\n",
    "\n",
    "range_list = list(range(1,3))\n",
    "print('RANGE LIST ',range_list)\n",
    "print('MIN ',min(range_list))\n",
    "print('MAX ',max(range_list))\n",
    "print('SUM ',sum(range_list))\n",
    "\n",
    "short_format = [ x for x in range(0,9)] #Complex version of list\n",
    "print(short_format)\n",
    "\n",
    "# SLICING\n",
    "print(short_format[1:4])\n",
    "print(short_format[:4])\n",
    "print(short_format[1:])\n",
    "print(short_format[-3:])\n",
    "print(short_format[3:-5])\n",
    "print(short_format[-3:9])\n",
    "\n",
    "#copy_list = short_format[:] # RIGHT WWAYY\n",
    "copy_list = short_format #POINTER WILL POINT TO THE SAME LIST SO IF WE MAKE CHANGE TO ANY OF THE LIST THAT WILL EFFECT BOTH\n",
    "\n",
    "short_format.append(9)\n",
    "print(short_format)\n",
    "print(copy_list)"
   ]
  },
  {
   "cell_type": "code",
   "execution_count": 2,
   "metadata": {},
   "outputs": [],
   "source": [
    "# Tuples - YOU CAN NOT MODIFY ELEMENTS IN TUPLE\n",
    "tuple_one = (100,200,100)\n",
    "print(tuple_one)"
   ]
  },
  {
   "cell_type": "code",
   "execution_count": 74,
   "metadata": {},
   "outputs": [
    {
     "name": "stdout",
     "output_type": "stream",
     "text": [
      "Hurrayyyyyy\n"
     ]
    }
   ],
   "source": [
    "if 1 == 1 : \n",
    "    print('Hurrayyyyyy')\n",
    "elif 2 != 1 : \n",
    "    print('Oh NOOOOOOOO')\n",
    "else : \n",
    "    print('SLEEPPP')"
   ]
  },
  {
   "cell_type": "code",
   "execution_count": 94,
   "metadata": {},
   "outputs": [
    {
     "name": "stdout",
     "output_type": "stream",
     "text": [
      "dict_items([('one', 1), ('two', 2)])\n",
      "BOTH : ('one', 1)\n",
      "BOTH : ('two', 2)\n",
      "VALUE : 1\n",
      "KEY : one\n",
      "VALUE : 2\n",
      "KEY : two\n",
      "KEYS() :one\n",
      "KEYS() :two\n",
      "VALUES() :1\n",
      "VALUES() :2\n"
     ]
    }
   ],
   "source": [
    "# OBJECTS/DIRECTORIES\n",
    "dirt_one = { \n",
    "             'one' : 1,\n",
    "             'two' : 2 \n",
    "           } \n",
    "\n",
    "# add more values to directories \n",
    "dirt_one['third'] = 3\n",
    "\n",
    "# Removing the key \n",
    "del dirt_one['third']\n",
    "\n",
    "# LOOPING Through them\n",
    "\n",
    "test_dirt = dirt_one.items() # DATA TYPE LIST\n",
    "test_list = dirt_one.keys() # DATA TYPE LIST\n",
    "print(test_dirt)\n",
    "\n",
    "for i in dirt_one.items(): #if passed one parameter then it will show key and value\n",
    "    print('BOTH : '+str(i))\n",
    "    \n",
    "for key,value in dirt_one.items(): #if passed one parameter then it will show key and value\n",
    "    print('VALUE : '+str(value))\n",
    "    print('KEY : '+str(key))\n",
    "\n",
    "for value in dirt_one.keys(): #if passed one parameter then it will show key and value\n",
    "    print('KEYS() :'+str(value))\n",
    "    \n",
    "for value in dirt_one.values(): #if passed one parameter then it will show key and value\n",
    "    print('VALUES() :'+str(value))\n",
    "    \n",
    "#print(dirt_one)"
   ]
  },
  {
   "cell_type": "code",
   "execution_count": 95,
   "metadata": {},
   "outputs": [
    {
     "name": "stdout",
     "output_type": "stream",
     "text": [
      "{1, 2, 3}\n"
     ]
    }
   ],
   "source": [
    "# SET\n",
    "dup_val = [1,2,2,3]\n",
    "dup_val = set(dup_val)\n",
    "print(dup_val)"
   ]
  },
  {
   "cell_type": "code",
   "execution_count": 1,
   "metadata": {},
   "outputs": [],
   "source": [
    "# remember always which data type it is and act accordingly|"
   ]
  },
  {
   "cell_type": "code",
   "execution_count": 7,
   "metadata": {},
   "outputs": [
    {
     "data": {
      "text/plain": [
       "[1, 2, 3]"
      ]
     },
     "execution_count": 7,
     "metadata": {},
     "output_type": "execute_result"
    }
   ],
   "source": [
    "# Functions \n",
    "def fun_one(message = 'SOJA BHAI') : \n",
    "    \"\"\"Display a Message\"\"\"  # <-- Called DocString, it describes what your funcation is doing\n",
    "    return message\n",
    "\n",
    "\n",
    "fun_one('Good Morning') # fun_call\n",
    "fun_one(message = 'Not so good morning') # Value with name of the parameter\n",
    "fun_one() # Default value\n",
    "\n",
    "fun_one(list(range(1,4))) # MAKE SURE PREVENT THE LIST FROM MODIFYING, PASS COPY OF THE LIST --> list_one[:]\n",
    "\n"
   ]
  },
  {
   "cell_type": "code",
   "execution_count": 13,
   "metadata": {},
   "outputs": [
    {
     "name": "stdout",
     "output_type": "stream",
     "text": [
      "1\n",
      "(3,)\n",
      "test\n",
      "(21,)\n"
     ]
    }
   ],
   "source": [
    "# WHEN WE DONT KNOW HOW MANY NUMBER OF PARAMETERS WE'LL NEED IN THE FUNCTIONS\n",
    "def test_fun(size,*unknown_num_of_param):  # here this funcation will convert all the parameters to tuple and use it in the program\n",
    "    \"\"\"Arbitary Arguments must be at the last, can't be ahead of that\"\"\"\n",
    "    print(size) \n",
    "    print(unknown_num_of_param) \n",
    "    \n",
    "test_fun(1,3)\n",
    "test_fun('test',21)"
   ]
  },
  {
   "cell_type": "code",
   "execution_count": 14,
   "metadata": {},
   "outputs": [],
   "source": [
    "### MODULE\n",
    "# WE CAN SEPERATE THE FUNCATIONS INTO ANOTHER PYTHON FILE AND THEN IMPORT THAT TO THE MAIN FILE USING\n",
    "# IMPORT (THAT FILE NAME WITHOUT EXTENSION)\n",
    "\n",
    "# TO CALL ANY FUNCATION USE THE FILENAME.FUNCATION_NAME\n",
    "# FROM MODULE_1 * <-- IMPORT ALL FUNCATIONS\n",
    "# FROM MODULE_1 IMPORT FUN_ONE() AS FUN_THISCLASS <-- TO IMPORT SPEFIC FUNCATIONS ONLY AND ALSO ALIAS"
   ]
  },
  {
   "cell_type": "code",
   "execution_count": 28,
   "metadata": {},
   "outputs": [
    {
     "name": "stdout",
     "output_type": "stream",
     "text": [
      "construtor test_class\n"
     ]
    }
   ],
   "source": [
    "# Class\n",
    "\n",
    "class test():\n",
    "    def __init__(self,name) :  # self is required\n",
    "        self.name = name\n",
    "        print('construtor ' + name)\n",
    "        \n",
    "# self.var_1 this is called attributes because the variable var_1 is accesible by self keyword\n",
    "\n",
    "# this attributes can be modified with class instances or inside the claass as well\n",
    "\n",
    "# if a function have a same name in child and parent, python will focus on the child version\n",
    "\n",
    "# Attributes can be assigned to a class instances and we can use that attribute class to call the method of that class\n",
    "# for example...\n",
    "# testclass --> self.name = nameClass()\n",
    "# testclassobj.name.nameClassMethod() \n",
    "\n",
    "# INHERITANCE\n",
    "\n",
    "class test_child(test):  #CHILD_CLASS_NAME(PARENT_CLASS_NAME)\n",
    "    def __init__(self , name1) :\n",
    "        \"\"\"Calling the parent class\"\"\"\n",
    "        super().__init__(name1)\n",
    "        \n",
    "instance_of_class = test_child('test_class') # CALLING THE CLASS\n",
    "#print(instance_of_class.name) # Access variables"
   ]
  },
  {
   "cell_type": "code",
   "execution_count": null,
   "metadata": {},
   "outputs": [],
   "source": []
  }
 ],
 "metadata": {
  "celltoolbar": "Raw Cell Format",
  "kernelspec": {
   "display_name": "Python 3",
   "language": "python",
   "name": "python3"
  },
  "language_info": {
   "codemirror_mode": {
    "name": "ipython",
    "version": 3
   },
   "file_extension": ".py",
   "mimetype": "text/x-python",
   "name": "python",
   "nbconvert_exporter": "python",
   "pygments_lexer": "ipython3",
   "version": "3.8.3"
  }
 },
 "nbformat": 4,
 "nbformat_minor": 4
}
