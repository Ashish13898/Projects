{
 "cells": [
  {
   "cell_type": "markdown",
   "metadata": {},
   "source": [
    "# Linear Regression for Classification\n",
    "\n",
    "\n",
    "For linear models for regression, the output, ŷ, is a linear function of the features: a\n",
    "line, plane, or hyperplane (in higher dimensions). For linear models for classification,\n",
    "the decision boundary is a linear function of the input. In other words, a (binary) linear\n",
    "classifier is a classifier that separates two classes using a line, a plane, or a hyperplane.\n",
    "We will see examples of that in this section.\n",
    "\n",
    "There are many algorithms for learning linear models. These algorithms all differ in\n",
    "the following two ways:\n",
    "- The way in which they measure how well a particular combination of coefficients\n",
    "and intercept fits the training data\n",
    "- If and what kind of regularization they use\n",
    "\n",
    "- default way L2 Regularization is applied\n",
    "\n",
    "- for LogisticRegression and LinearSVC the trade off parameter that determines the strength of the regulrization is called C\n",
    "\n",
    "##### as C increases LR and SVC tries to fit the training set as best as possible and when c is very low models put more emphassis on finding a coefficient vector that is close to zero. \n",
    "\n",
    "### Logistic Regression: \n"
   ]
  },
  {
   "cell_type": "code",
   "execution_count": null,
   "metadata": {},
   "outputs": [],
   "source": []
  }
 ],
 "metadata": {
  "kernelspec": {
   "display_name": "Python 3",
   "language": "python",
   "name": "python3"
  },
  "language_info": {
   "codemirror_mode": {
    "name": "ipython",
    "version": 3
   },
   "file_extension": ".py",
   "mimetype": "text/x-python",
   "name": "python",
   "nbconvert_exporter": "python",
   "pygments_lexer": "ipython3",
   "version": "3.8.3"
  }
 },
 "nbformat": 4,
 "nbformat_minor": 4
}
