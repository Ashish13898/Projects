{
 "cells": [
  {
   "cell_type": "markdown",
   "metadata": {},
   "source": [
    "# K - Nearest Neighbors Classifier \n",
    "\n",
    "- This classfier is only used for training the data set \n",
    "- K represents the numbers of neighbors to consider for the training set\n",
    "- To make a prediction for a new data point, the algorithm finds the point in the training set that is closest to the new point and then assigns the lable of this training point to the new data point\n",
    "- sklearn has a class called KNeighborsClassifier which can be used for this\n",
    "- KNeighborsClassifier.fit takes two arguments x will the numpy arrays which is the data that you have and the y will be the end result or target in this example "
   ]
  },
  {
   "cell_type": "code",
   "execution_count": 9,
   "metadata": {},
   "outputs": [],
   "source": [
    "# Day 1 work added\n",
    "\n",
    "%matplotlib inline\n",
    "import matplotlib.pyplot as plt\n",
    "import numpy as np\n",
    "import pandas as pd\n",
    "from sklearn.datasets import load_iris\n",
    "from sklearn.model_selection import train_test_split\n",
    "\n",
    "X_train, X_test, y_train, y_test = train_test_split(load_iris()['data'],load_iris()['target'],random_state = 0)"
   ]
  },
  {
   "cell_type": "code",
   "execution_count": 10,
   "metadata": {},
   "outputs": [],
   "source": [
    "from sklearn.neighbors import KNeighborsClassifier"
   ]
  },
  {
   "cell_type": "code",
   "execution_count": 20,
   "metadata": {},
   "outputs": [
    {
     "name": "stdout",
     "output_type": "stream",
     "text": [
      "Predicted Response is [0]\n",
      "Predicted Target Name is ['setosa']\n",
      "Predicted Response for Test Data is [2 1 0 2 0 2 0 1 1 1 2 1 1 1 1 0 1 1 0 0 2 1 0 0 2 0 0 1 1 0 2 1 0 2 2 1 0\n",
      " 2]\n",
      "KNN.Score Accuracy is 0.9736842105263158\n",
      "NP.Mean Accuracy is 0.9736842105263158\n"
     ]
    }
   ],
   "source": [
    "knn = KNeighborsClassifier(n_neighbors = 1)\n",
    "\n",
    "# Training the model\n",
    "knn.fit(X_train,y_train)\n",
    "\n",
    "# Prediction \n",
    "prediction = knn.predict(np.array([[5,2.9,1,0.2]]))\n",
    "print('Predicted Response is {}'.format(prediction))\n",
    "print('Predicted Target Name is {}'.format(load_iris()['target_names'][prediction]))\n",
    "\n",
    "# Evuluating the model\n",
    "prediction_testData = knn.predict(X_test)\n",
    "print('Predicted Response for Test Data is {}'.format(prediction_testData))\n",
    "\n",
    "# Finding how acurate the model is \n",
    "\n",
    "# Type 1 Using knn.score\n",
    "accuracy = knn.score(X_test,y_test)\n",
    "print('KNN.Score Accuracy is {}'.format(accuracy))\n",
    "\n",
    "# Type 2 Using np.mean\n",
    "accuracy = np.mean(prediction_testData == y_test)\n",
    "print('NP.Mean Accuracy is {}'.format(accuracy))"
   ]
  },
  {
   "cell_type": "code",
   "execution_count": null,
   "metadata": {},
   "outputs": [],
   "source": []
  }
 ],
 "metadata": {
  "kernelspec": {
   "display_name": "Python 3",
   "language": "python",
   "name": "python3"
  },
  "language_info": {
   "codemirror_mode": {
    "name": "ipython",
    "version": 3
   },
   "file_extension": ".py",
   "mimetype": "text/x-python",
   "name": "python",
   "nbconvert_exporter": "python",
   "pygments_lexer": "ipython3",
   "version": "3.8.3"
  }
 },
 "nbformat": 4,
 "nbformat_minor": 4
}
